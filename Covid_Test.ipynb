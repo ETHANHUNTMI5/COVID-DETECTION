{
  "nbformat": 4,
  "nbformat_minor": 0,
  "metadata": {
    "colab": {
      "name": "Covid_Test.ipynb",
      "provenance": [],
      "collapsed_sections": []
    },
    "kernelspec": {
      "name": "python3",
      "display_name": "Python 3"
    },
    "language_info": {
      "name": "python"
    },
    "accelerator": "GPU"
  },
  "cells": [
    {
      "cell_type": "code",
      "source": [
        "!wget https://www.dropbox.com/s/7rjw6oet4za01op/CovidDataset-20200427T133042Z-001.zip?dl=0"
      ],
      "metadata": {
        "colab": {
          "base_uri": "https://localhost:8080/"
        },
        "id": "XU1jf4dBibPq",
        "outputId": "2c54bd2b-34c0-46e1-8949-16b0e8fa9959"
      },
      "execution_count": null,
      "outputs": [
        {
          "output_type": "stream",
          "name": "stdout",
          "text": [
            "--2022-01-05 15:14:08--  https://www.dropbox.com/s/7rjw6oet4za01op/CovidDataset-20200427T133042Z-001.zip?dl=0\n",
            "Resolving www.dropbox.com (www.dropbox.com)... 162.125.3.18, 2620:100:6018:18::a27d:312\n",
            "Connecting to www.dropbox.com (www.dropbox.com)|162.125.3.18|:443... connected.\n",
            "HTTP request sent, awaiting response... 301 Moved Permanently\n",
            "Location: /s/raw/7rjw6oet4za01op/CovidDataset-20200427T133042Z-001.zip [following]\n",
            "--2022-01-05 15:14:09--  https://www.dropbox.com/s/raw/7rjw6oet4za01op/CovidDataset-20200427T133042Z-001.zip\n",
            "Reusing existing connection to www.dropbox.com:443.\n",
            "HTTP request sent, awaiting response... 302 Found\n",
            "Location: https://uc5464997a15fd8406012b7deb52.dl.dropboxusercontent.com/cd/0/inline/BdPmXbumtsg8t0j1rPyWJ7BZPwJTRPunxZQ4OLt7t4LsRcGx0iBWZmKhIopHejESLVEJAwz6ZcK3qRvKPv4gD_tLKnYX9yhVs9zAxyMIU3W4ToRQaQ--VFXLJXjE5gl9E0Ft4oIpd9ZJePvzO7yqu0Yh/file# [following]\n",
            "--2022-01-05 15:14:09--  https://uc5464997a15fd8406012b7deb52.dl.dropboxusercontent.com/cd/0/inline/BdPmXbumtsg8t0j1rPyWJ7BZPwJTRPunxZQ4OLt7t4LsRcGx0iBWZmKhIopHejESLVEJAwz6ZcK3qRvKPv4gD_tLKnYX9yhVs9zAxyMIU3W4ToRQaQ--VFXLJXjE5gl9E0Ft4oIpd9ZJePvzO7yqu0Yh/file\n",
            "Resolving uc5464997a15fd8406012b7deb52.dl.dropboxusercontent.com (uc5464997a15fd8406012b7deb52.dl.dropboxusercontent.com)... 162.125.3.15, 2620:100:6018:15::a27d:30f\n",
            "Connecting to uc5464997a15fd8406012b7deb52.dl.dropboxusercontent.com (uc5464997a15fd8406012b7deb52.dl.dropboxusercontent.com)|162.125.3.15|:443... connected.\n",
            "HTTP request sent, awaiting response... 302 Found\n",
            "Location: /cd/0/inline2/BdNpamo_krw4U4LClx8gsud9Za29wM_-QKJFQ2aZIt_-72F5aQlATrDhmHXppncuDIVp6-ZEiYbJxeXRmen2ZBkOy_HCqsQNzVVF7fO-xy1iRj_-YeLBZ9NBfS_uS2UWRWWblTuHALd_PyIlCFi_WhZdWugIMuGEBwGzMlGXucQZGIrj8p-YUxepmx8KnDOROa8X9TVAUnDNI02nFCF-B6NFOxalm_ZPOPzBRq9mBtQN5Aw5lWzER2wnp67CP6oa6VPpxgvB_9yJVltrZ_oFw7Rqw9yFaFYXMCgPg9Jl9RTHrG1sEJQ79cip4WC_DF0kUkswS0uM6WREHVGNQkv3mpHrggTxb5dDJTVfUpMU-0IQ6mIJYVvg_JlUAVaF7L9jL_s/file [following]\n",
            "--2022-01-05 15:14:09--  https://uc5464997a15fd8406012b7deb52.dl.dropboxusercontent.com/cd/0/inline2/BdNpamo_krw4U4LClx8gsud9Za29wM_-QKJFQ2aZIt_-72F5aQlATrDhmHXppncuDIVp6-ZEiYbJxeXRmen2ZBkOy_HCqsQNzVVF7fO-xy1iRj_-YeLBZ9NBfS_uS2UWRWWblTuHALd_PyIlCFi_WhZdWugIMuGEBwGzMlGXucQZGIrj8p-YUxepmx8KnDOROa8X9TVAUnDNI02nFCF-B6NFOxalm_ZPOPzBRq9mBtQN5Aw5lWzER2wnp67CP6oa6VPpxgvB_9yJVltrZ_oFw7Rqw9yFaFYXMCgPg9Jl9RTHrG1sEJQ79cip4WC_DF0kUkswS0uM6WREHVGNQkv3mpHrggTxb5dDJTVfUpMU-0IQ6mIJYVvg_JlUAVaF7L9jL_s/file\n",
            "Reusing existing connection to uc5464997a15fd8406012b7deb52.dl.dropboxusercontent.com:443.\n",
            "HTTP request sent, awaiting response... 200 OK\n",
            "Length: 140830621 (134M) [application/zip]\n",
            "Saving to: ‘CovidDataset-20200427T133042Z-001.zip?dl=0’\n",
            "\n",
            "CovidDataset-202004 100%[===================>] 134.31M  74.4MB/s    in 1.8s    \n",
            "\n",
            "2022-01-05 15:14:11 (74.4 MB/s) - ‘CovidDataset-20200427T133042Z-001.zip?dl=0’ saved [140830621/140830621]\n",
            "\n"
          ]
        }
      ]
    },
    {
      "cell_type": "code",
      "source": [
        "!unzip CovidDataset-20200427T133042Z-001.zip?dl=0"
      ],
      "metadata": {
        "colab": {
          "base_uri": "https://localhost:8080/"
        },
        "id": "gA4saN6nkScP",
        "outputId": "f5830cbc-a559-492d-8eb9-30c7b13fa4ab"
      },
      "execution_count": null,
      "outputs": [
        {
          "output_type": "stream",
          "name": "stdout",
          "text": [
            "Archive:  CovidDataset-20200427T133042Z-001.zip?dl=0\n",
            "replace CovidDataset/Val/Covid/88de9d8c39e946abd495b37cd07d89e5-6531-0.jpg? [y]es, [n]o, [A]ll, [N]one, [r]ename: cc\n",
            "error:  invalid response [cc]\n",
            "replace CovidDataset/Val/Covid/88de9d8c39e946abd495b37cd07d89e5-6531-0.jpg? [y]es, [n]o, [A]ll, [N]one, [r]ename: cc\n",
            "error:  invalid response [cc]\n",
            "replace CovidDataset/Val/Covid/88de9d8c39e946abd495b37cd07d89e5-6531-0.jpg? [y]es, [n]o, [A]ll, [N]one, [r]ename: "
          ]
        }
      ]
    },
    {
      "cell_type": "code",
      "source": [
        "TRAIN_PATH = \"CovidDataset/Train\"\n",
        "VAL_PATH = \"CovidDataset/Test\""
      ],
      "metadata": {
        "id": "fYKi4JZMkSiY"
      },
      "execution_count": null,
      "outputs": []
    },
    {
      "cell_type": "code",
      "source": [
        "import numpy as np\n",
        "import matplotlib.pyplot as plt\n",
        "import keras \n",
        "from keras.layers import *\n",
        "from keras.models import *\n",
        "from keras.preprocessing import image\n"
      ],
      "metadata": {
        "id": "tmrFdZFaibWh"
      },
      "execution_count": null,
      "outputs": []
    },
    {
      "cell_type": "code",
      "source": [
        "#CNN Based Model in Keras\n",
        "\n",
        "Model = Sequential()\n",
        "Model.add(Conv2D(32,kernel_size=(3,3),activation='relu',input_shape = (224,224,3)))\n",
        "Model.add(Conv2D(64,kernel_size=(3,3),activation='relu'))\n",
        "Model.add(MaxPool2D(pool_size=(2,2)))\n",
        "Model.add(Dropout(0.25))\n",
        "\n",
        "Model.add(Conv2D(64,kernel_size=(3,3),activation='relu'))\n",
        "Model.add(MaxPool2D(pool_size=(2,2)))\n",
        "Model.add(Dropout(0.25))\n",
        "\n",
        "Model.add(Conv2D(128,kernel_size=(3,3),activation='relu'))\n",
        "Model.add(MaxPool2D(pool_size=(2,2)))\n",
        "Model.add(Dropout(0.25))\n",
        "\n",
        "Model.add(Flatten())\n",
        "Model.add(Dense(64,activation='relu'))\n",
        "Model.add(Dropout(0.5))\n",
        "Model.add(Dense(1,activation='sigmoid'))\n",
        "Model.summary()\n",
        "\n",
        "\n"
      ],
      "metadata": {
        "colab": {
          "base_uri": "https://localhost:8080/"
        },
        "id": "4UuTCPuDibc_",
        "outputId": "c6dc6628-ac01-4bcf-fb9e-a777b6eeb09a"
      },
      "execution_count": null,
      "outputs": [
        {
          "output_type": "stream",
          "name": "stdout",
          "text": [
            "Model: \"sequential_3\"\n",
            "_________________________________________________________________\n",
            " Layer (type)                Output Shape              Param #   \n",
            "=================================================================\n",
            " conv2d_12 (Conv2D)          (None, 222, 222, 32)      896       \n",
            "                                                                 \n",
            " conv2d_13 (Conv2D)          (None, 220, 220, 64)      18496     \n",
            "                                                                 \n",
            " max_pooling2d_9 (MaxPooling  (None, 110, 110, 64)     0         \n",
            " 2D)                                                             \n",
            "                                                                 \n",
            " dropout_12 (Dropout)        (None, 110, 110, 64)      0         \n",
            "                                                                 \n",
            " conv2d_14 (Conv2D)          (None, 108, 108, 64)      36928     \n",
            "                                                                 \n",
            " max_pooling2d_10 (MaxPoolin  (None, 54, 54, 64)       0         \n",
            " g2D)                                                            \n",
            "                                                                 \n",
            " dropout_13 (Dropout)        (None, 54, 54, 64)        0         \n",
            "                                                                 \n",
            " conv2d_15 (Conv2D)          (None, 52, 52, 128)       73856     \n",
            "                                                                 \n",
            " max_pooling2d_11 (MaxPoolin  (None, 26, 26, 128)      0         \n",
            " g2D)                                                            \n",
            "                                                                 \n",
            " dropout_14 (Dropout)        (None, 26, 26, 128)       0         \n",
            "                                                                 \n",
            " flatten_3 (Flatten)         (None, 86528)             0         \n",
            "                                                                 \n",
            " dense_6 (Dense)             (None, 64)                5537856   \n",
            "                                                                 \n",
            " dropout_15 (Dropout)        (None, 64)                0         \n",
            "                                                                 \n",
            " dense_7 (Dense)             (None, 1)                 65        \n",
            "                                                                 \n",
            "=================================================================\n",
            "Total params: 5,668,097\n",
            "Trainable params: 5,668,097\n",
            "Non-trainable params: 0\n",
            "_________________________________________________________________\n"
          ]
        }
      ]
    },
    {
      "cell_type": "code",
      "source": [
        "Model.compile(loss =keras.losses.binary_crossentropy,optimizer='adam',metrics=['accuracy'])"
      ],
      "metadata": {
        "id": "vpuqM_rJzsTT"
      },
      "execution_count": null,
      "outputs": []
    },
    {
      "cell_type": "code",
      "source": [
        "# Train from scratch\n",
        "\n",
        "train_datagen = image.ImageDataGenerator(\n",
        "                rescale = 1.0/255,\n",
        "                shear_range=0.2,\n",
        "                zoom_range = 0.2,\n",
        "                horizontal_flip=True\n",
        ")\n",
        "\n",
        "test_dataset = image.ImageDataGenerator(rescale = 1.0/255)\n",
        "\n",
        "\n"
      ],
      "metadata": {
        "id": "xrE2e-C1z74k"
      },
      "execution_count": null,
      "outputs": []
    },
    {
      "cell_type": "code",
      "source": [
        "train_generator = train_datagen.flow_from_directory(\n",
        "    'CovidDataset/Train',\n",
        "    target_size = (224,224),\n",
        "    batch_size =32,\n",
        "    class_mode = 'binary')\n",
        "\n",
        "\n"
      ],
      "metadata": {
        "colab": {
          "base_uri": "https://localhost:8080/"
        },
        "id": "CIBahcrW05s0",
        "outputId": "70306eaf-8dbb-470a-9e0d-406a14efaa65"
      },
      "execution_count": null,
      "outputs": [
        {
          "output_type": "stream",
          "name": "stdout",
          "text": [
            "Found 224 images belonging to 2 classes.\n"
          ]
        }
      ]
    },
    {
      "cell_type": "code",
      "source": [
        "train_generator.class_indices"
      ],
      "metadata": {
        "colab": {
          "base_uri": "https://localhost:8080/"
        },
        "id": "B9Oajysy1aT8",
        "outputId": "93ac45b4-69dc-4085-ba1b-a048eeebd4f8"
      },
      "execution_count": null,
      "outputs": [
        {
          "output_type": "execute_result",
          "data": {
            "text/plain": [
              "{'Covid': 0, 'Normal': 1}"
            ]
          },
          "metadata": {},
          "execution_count": 31
        }
      ]
    },
    {
      "cell_type": "code",
      "source": [
        "val_generator = test_dataset.flow_from_directory(\n",
        "    'CovidDataset/Val',\n",
        "    target_size = (224,224),\n",
        "    batch_size =32,\n",
        "    class_mode = 'binary')"
      ],
      "metadata": {
        "colab": {
          "base_uri": "https://localhost:8080/"
        },
        "id": "mqcTwsw01qNC",
        "outputId": "04ef5fd8-475b-44ab-98b6-074af98d97a1"
      },
      "execution_count": null,
      "outputs": [
        {
          "output_type": "stream",
          "name": "stdout",
          "text": [
            "Found 60 images belonging to 2 classes.\n"
          ]
        }
      ]
    },
    {
      "cell_type": "code",
      "source": [
        "hist = Model.fit(\n",
        "    train_generator,\n",
        "    steps_per_epoch =7,\n",
        "    epochs=20,\n",
        "    validation_data =val_generator,\n",
        "    validation_steps =2\n",
        "    \n",
        ")"
      ],
      "metadata": {
        "colab": {
          "base_uri": "https://localhost:8080/"
        },
        "id": "UmxRN9ec1r1q",
        "outputId": "dfd26ee8-0c2d-4130-e88b-44ce10cb975f"
      },
      "execution_count": null,
      "outputs": [
        {
          "output_type": "stream",
          "name": "stdout",
          "text": [
            "Epoch 1/20\n",
            "7/7 [==============================] - 12s 2s/step - loss: 1.9350 - accuracy: 0.5134 - val_loss: 0.6929 - val_accuracy: 0.5000\n",
            "Epoch 2/20\n",
            "7/7 [==============================] - 11s 2s/step - loss: 0.6811 - accuracy: 0.5670 - val_loss: 0.6851 - val_accuracy: 0.5000\n",
            "Epoch 3/20\n",
            "7/7 [==============================] - 10s 2s/step - loss: 0.6300 - accuracy: 0.6339 - val_loss: 0.6306 - val_accuracy: 0.5167\n",
            "Epoch 4/20\n",
            "7/7 [==============================] - 11s 2s/step - loss: 0.5318 - accuracy: 0.7009 - val_loss: 0.5363 - val_accuracy: 0.7167\n",
            "Epoch 5/20\n",
            "7/7 [==============================] - 10s 1s/step - loss: 0.4343 - accuracy: 0.8170 - val_loss: 0.4123 - val_accuracy: 0.8500\n",
            "Epoch 6/20\n",
            "7/7 [==============================] - 10s 2s/step - loss: 0.3108 - accuracy: 0.8661 - val_loss: 0.1917 - val_accuracy: 0.9667\n",
            "Epoch 7/20\n",
            "7/7 [==============================] - 10s 2s/step - loss: 0.2863 - accuracy: 0.9018 - val_loss: 0.1512 - val_accuracy: 0.9667\n",
            "Epoch 8/20\n",
            "7/7 [==============================] - 10s 1s/step - loss: 0.2154 - accuracy: 0.9196 - val_loss: 0.1283 - val_accuracy: 0.9833\n",
            "Epoch 9/20\n",
            "7/7 [==============================] - 10s 2s/step - loss: 0.1967 - accuracy: 0.9018 - val_loss: 0.1099 - val_accuracy: 0.9833\n",
            "Epoch 10/20\n",
            "7/7 [==============================] - ETA: 0s - loss: 0.1961 - accuracy: 0.9464Epoch 11/20\n",
            "7/7 [==============================] - 10s 2s/step - loss: 0.1807 - accuracy: 0.9420 - val_loss: 0.0736 - val_accuracy: 0.9833\n",
            "Epoch 12/20\n",
            "7/7 [==============================] - 11s 2s/step - loss: 0.1190 - accuracy: 0.9777 - val_loss: 0.0687 - val_accuracy: 0.9833\n",
            "Epoch 13/20\n",
            "7/7 [==============================] - 11s 2s/step - loss: 0.1035 - accuracy: 0.9598 - val_loss: 0.1038 - val_accuracy: 0.9667\n",
            "Epoch 14/20\n",
            "7/7 [==============================] - 11s 2s/step - loss: 0.1761 - accuracy: 0.9152 - val_loss: 0.0689 - val_accuracy: 0.9667\n",
            "Epoch 15/20\n",
            "7/7 [==============================] - 10s 2s/step - loss: 0.1129 - accuracy: 0.9509 - val_loss: 0.0535 - val_accuracy: 0.9833\n",
            "Epoch 16/20\n",
            "7/7 [==============================] - 10s 2s/step - loss: 0.1195 - accuracy: 0.9509 - val_loss: 0.1111 - val_accuracy: 0.9667\n",
            "Epoch 17/20\n",
            "7/7 [==============================] - 10s 2s/step - loss: 0.1709 - accuracy: 0.9464 - val_loss: 0.0749 - val_accuracy: 0.9833\n",
            "Epoch 18/20\n",
            "7/7 [==============================] - 11s 1s/step - loss: 0.1079 - accuracy: 0.9643 - val_loss: 0.0499 - val_accuracy: 0.9833\n",
            "Epoch 19/20\n",
            "7/7 [==============================] - 11s 2s/step - loss: 0.2087 - accuracy: 0.9598 - val_loss: 0.0711 - val_accuracy: 0.9833\n",
            "Epoch 20/20\n",
            "7/7 [==============================] - 10s 1s/step - loss: 0.1244 - accuracy: 0.9777 - val_loss: 0.0733 - val_accuracy: 0.9667\n"
          ]
        }
      ]
    },
    {
      "cell_type": "code",
      "source": [
        "h = hist.history\n",
        "max_idx = np.argmax(h['val_accuracy'])"
      ],
      "metadata": {
        "id": "HJ0r4sFw1r9L"
      },
      "execution_count": null,
      "outputs": []
    },
    {
      "cell_type": "code",
      "source": [
        "print(h['val_accuracy'][max_idx])\n",
        "print(h['accuracy'][max_idx])\n"
      ],
      "metadata": {
        "colab": {
          "base_uri": "https://localhost:8080/"
        },
        "id": "PBQkaB6f1sE3",
        "outputId": "5c5b0889-0804-4a19-9e91-e7de5066c675"
      },
      "execution_count": null,
      "outputs": [
        {
          "output_type": "stream",
          "name": "stdout",
          "text": [
            "0.9833333492279053\n",
            "0.9196428656578064\n"
          ]
        }
      ]
    },
    {
      "cell_type": "code",
      "source": [
        "## Loss\n",
        "plt.style.use(\"seaborn\")\n",
        "plt.plot(h['loss'],c='red',label ='Training Loss')\n",
        "plt.plot(h['val_loss'],c='green',label ='Validation Loss')\n",
        "plt.title(\"Loss\")\n",
        "plt.legend()\n",
        "plt.show()"
      ],
      "metadata": {
        "colab": {
          "base_uri": "https://localhost:8080/",
          "height": 362
        },
        "id": "IKQ_Q2Fh82t_",
        "outputId": "8f3881f2-e176-40c8-afba-022a8c57b47b"
      },
      "execution_count": null,
      "outputs": [
        {
          "output_type": "display_data",
          "data": {
            "image/png": "[encoded data removed]",
            "text/plain": [
              "<Figure size 576x396 with 1 Axes>"
            ]
          },
          "metadata": {}
        }
      ]
    },
    {
      "cell_type": "code",
      "source": [
        "## Accuracy\n",
        "plt.style.use(\"seaborn\")\n",
        "plt.plot(h['accuracy'],c='red',label ='Training Accuracy')\n",
        "plt.plot(h['val_accuracy'],c='green',label ='Validation Accuracy')\n",
        "plt.title(\"Accuracy\")\n",
        "plt.legend()\n",
        "plt.show()"
      ],
      "metadata": {
        "colab": {
          "base_uri": "https://localhost:8080/",
          "height": 362
        },
        "id": "xD5btSRI9Vlk",
        "outputId": "4867e01e-f7d0-4c7b-bcec-82a840b8b86a"
      },
      "execution_count": null,
      "outputs": [
        {
          "output_type": "display_data",
          "data": {
            "image/png": "[encoded data removed]",
            "text/plain": [
              "<Figure size 576x396 with 1 Axes>"
            ]
          },
          "metadata": {}
        }
      ]
    },
    {
      "cell_type": "code",
      "source": [
        ""
      ],
      "metadata": {
        "id": "KPJGiAvX9iME"
      },
      "execution_count": null,
      "outputs": []
    }
  ]
}